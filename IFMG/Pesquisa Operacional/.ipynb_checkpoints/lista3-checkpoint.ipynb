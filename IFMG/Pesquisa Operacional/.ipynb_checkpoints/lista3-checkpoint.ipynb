{
 "cells": [
  {
   "cell_type": "code",
   "execution_count": null,
   "metadata": {},
   "outputs": [],
   "source": []
  },
  {
   "cell_type": "markdown",
   "metadata": {},
   "source": [
    "![IFMG](https://storage.googleapis.com/ifmg/IFMG.png)\n",
    "\n",
    "---\n",
    "# Pesquisa Operacional\n",
    "\n",
    "## Lista 3\n",
    "- Aluno: Lucas Mateus Fernandes\n",
    "- RA:0035411\n",
    "\n"
   ]
  },
  {
   "cell_type": "markdown",
   "metadata": {},
   "source": [
    "---\n",
    "### Importação de bibliotecas "
   ]
  },
  {
   "cell_type": "code",
   "execution_count": null,
   "metadata": {},
   "outputs": [],
   "source": [
    "#instalação pulp\n",
    "!pip3 install pulp\n",
    "!pip3 install matplot"
   ]
  },
  {
   "cell_type": "code",
   "execution_count": 1,
   "metadata": {},
   "outputs": [],
   "source": [
    "import scipy.optimize as opt\n",
    "import numpy as np\n",
    "import matplotlib.pyplot as plt\n",
    "from pulp import LpMaximize, LpMinimize, LpProblem, LpStatus, lpSum, LpVariable\n",
    "%matplotlib inline"
   ]
  },
  {
   "cell_type": "code",
   "execution_count": 2,
   "metadata": {},
   "outputs": [],
   "source": [
    "import matplotlib        as mpl\n",
    "cmap = mpl.cm.Blues(np.linspace(0,1,20))\n",
    "cmap = mpl.colors.ListedColormap(cmap[10:,:-1])\n",
    "\n",
    "def plot_raizes(list_obj, list_par = None, xlabel=None, ylabel=None):\n",
    "    if(list_par == None):\n",
    "        aran = np.arange(0,len(list_obj),1)\n",
    "    else:\n",
    "        aran = list_par.copy()\n",
    "\n",
    "    plt.rcParams[\"figure.figsize\"] = (10,8)\n",
    "    plt.scatter(aran, list_obj, c=aran, cmap=cmap)\n",
    "\n",
    "    if(xlabel == None and ylabel == None):\n",
    "        cbar = plt.colorbar()\n",
    "        cbar.set_label('Função Objetivo')\n",
    "\n",
    "    plt.xlabel('Valores parâmetro' if xlabel == None else xlabel)\n",
    "    plt.ylabel('Função Objetivo' if ylabel == None else ylabel)\n",
    "\n",
    "    plt.grid()\n",
    "    plt.show()"
   ]
  },
  {
   "cell_type": "markdown",
   "metadata": {},
   "source": [
    "---\n",
    "### [A-01]\n",
    "\n",
    "Solucionar computacionalmente os exercícios de 1 a 4 da Seção A da Lista de Exercícios\n",
    "02, em Python, usando a biblioteca SciPy."
   ]
  },
  {
   "cell_type": "markdown",
   "metadata": {},
   "source": [
    "#### Lista 2  [A-01]\n",
    "\n",
    "Modelagem:\n",
    "\n",
    "$$ max~z = 12 * qtdcarrinho + 60 * qtdTriciclo $$\n",
    "\n",
    "suj. a\n",
    "$$ Processo de usinagem $$\n",
    "$$ 15*qtdCarrinho + 30 * qtdTriciclo \\le 2160 $$\n",
    "\n",
    "$$ Processo de pintura $$\n",
    "$$ 6*qtdCarrinho + 45 * qtdTriciclo \\le 1320 $$\n",
    "\n",
    "$$ Processo de montagem $$\n",
    "$$ 6*qtdCarrinho + 24 * qtdTriciclo \\le 900 $$\n",
    "\n",
    "\n",
    "\n",
    "Modelagem Adaptada:\n",
    "\n",
    "$$ min~ -z = -12 * qtdcarrinho - 60 * qtdTriciclo $$\n",
    "suj. a\n",
    "$$ Processo de usinagem $$\n",
    "$$ 15*qtdCarrinho + 30 * qtdTriciclo \\le 2160 $$\n",
    "\n",
    "$$ Processo de pintura $$\n",
    "$$ 6*qtdCarrinho + 45 * qtdTriciclo \\le 1320 $$\n",
    "\n",
    "$$ Processo de montagem $$\n",
    "$$ 6*qtdCarrinho + 24 * qtdTriciclo \\le 900 $$\n",
    "\n"
   ]
  },
  {
   "cell_type": "code",
   "execution_count": 3,
   "metadata": {},
   "outputs": [
    {
     "name": "stdout",
     "output_type": "stream",
     "text": [
      "qtdCarrinho=70.00\n",
      "qtdTriciclo=20.00\n",
      "Lucro = 2040.0\n"
     ]
    }
   ],
   "source": [
    "#função objetivo (x, y)\n",
    "f_objetivo = [-12, -60] #c\n",
    "\n",
    "#inequações do lado esquerdo (left-hand side) - matriz A\n",
    "A_ineq = [[ 15,  30],  #restrição 1\n",
    "          [6,  45],  #restrição 2\n",
    "          [ 6, 24]]  #restrição 3\n",
    "\n",
    "#inequações do lado direito (right-hand side) - matriz b\n",
    "b_ineq = [2160, 1320, 900] #restrições 1, 2 e 3\n",
    "\n",
    "#intervalo (restrições de não negatividade)\n",
    "intervalo = [(0, float(\"inf\")), #intervalo de x (0-inf)\n",
    "            (0, float(\"inf\"))]  #intervalo de y (0-inf)\n",
    "\n",
    "#solver\n",
    "result = opt.linprog(c=f_objetivo, A_ub=A_ineq, b_ub=b_ineq, bounds=intervalo, method=\"simplex\")\n",
    "\n",
    "#resultado do método de otimização\n",
    "print('qtdCarrinho={0:.2f}\\nqtdTriciclo={1:.2f}'.format(result.x[0], result.x[1]))\n",
    "print('Lucro =', -result.fun)"
   ]
  },
  {
   "cell_type": "markdown",
   "metadata": {},
   "source": [
    "---"
   ]
  },
  {
   "cell_type": "markdown",
   "metadata": {},
   "source": [
    "#### Lista 2  [A-02]\n",
    "\n",
    "Modelagem:\n",
    "$$ max~z = 80 * A + 60 * B $$\n",
    "\n",
    "suj. a\n",
    "$$ 4*A + 6*B * B \\le 24 $$\n",
    "$$ 4*A + 2 * B \\le 16 $$\n",
    "$$ B \\le 3 $$\n",
    "\n",
    "Modelagem Adaptada:\n",
    "$$ min~-z = -80 * A - 60 * B $$\n",
    "\n",
    "suj. a\n",
    "$$ 4*A + 6*B * B \\le 24 $$\n",
    "$$ 4*A + 2 * B \\le 16 $$\n",
    "$$ B \\le 3 $$\n"
   ]
  },
  {
   "cell_type": "code",
   "execution_count": 4,
   "metadata": {},
   "outputs": [
    {
     "name": "stdout",
     "output_type": "stream",
     "text": [
      "A= 3.00\n",
      "B= 2.00\n",
      "max= 360.00\n"
     ]
    }
   ],
   "source": [
    "#função objetivo (x, y)\n",
    "f_objetivo = [-80, -60]\n",
    "\n",
    "#inequações do lado esquerdo (left-hand side) - matriz A\n",
    "A_ineq = [[ 4,  6],  #restrição 1\n",
    "          [ 4,  2],  #restrição 2\n",
    "          [ 0,  1]]  #restrição 3\n",
    "\n",
    "#inequações do lado direito (right-hand side) - matriz b\n",
    "b_ineq = [24, 16, 3] #restrições 1, 2 e 3\n",
    "\n",
    "#intervalo (restrições de não negatividade)\n",
    "intervalo = [(0, float(\"inf\")), #intervalo de x (0-inf)\n",
    "            (0, float(\"inf\"))]  #intervalo de y (0-inf)\n",
    "\n",
    "#solver\n",
    "result = opt.linprog(c=f_objetivo, A_ub=A_ineq, b_ub=b_ineq, \n",
    "                    bounds=intervalo, method=\"simplex\")\n",
    "\n",
    "#resultado do método de otimização\n",
    "\n",
    "print('A= %.2f' % result.x[0])\n",
    "print('B= %.2f' % result.x[1])\n",
    "print('max= %.2f' % (result.fun*(-1)))"
   ]
  },
  {
   "cell_type": "markdown",
   "metadata": {},
   "source": [
    "#### Lista 2  [A-03]\n",
    "\n",
    "Modelagem:\n",
    "\n",
    "x_1 = Carne  ;  x_2 = Ovo  \n",
    "\n",
    "$$ min~z = 3 * x_1 + 2.5 * x_2 $$\n",
    "\n",
    "suj. a\n",
    "$$ 4*x_1 + 8 * x_2 \\ge 32 $$\n",
    "$$ 6*x_1 + 6 * x_2 \\ge 36 $$\n",
    "\n",
    "\n",
    "Modelagem Adaptada:\n",
    "\n",
    "$$ min~z = 3 * x_1 + 2.5 * x_2 $$\n",
    "\n",
    "suj. a\n",
    "$$ -4*x_1 - 8 * x_2 \\le -32 $$\n",
    "$$ -6*x_1 - 6 * x_2 \\le -36 $$\n"
   ]
  },
  {
   "cell_type": "code",
   "execution_count": 5,
   "metadata": {},
   "outputs": [
    {
     "name": "stdout",
     "output_type": "stream",
     "text": [
      "x1= 0.00\n",
      "x2= 6.00\n",
      "max= -15.00\n"
     ]
    }
   ],
   "source": [
    "#função objetivo (x, y)\n",
    "f_objetivo = [3, 2.5]\n",
    "\n",
    "#inequações do lado esquerdo (left-hand side) - matriz A\n",
    "A_ineq = [[ -4,  -8],  #restrição 1\n",
    "          [ -6,  -6]]  #restrição 2\n",
    "\n",
    "#inequações do lado direito (right-hand side) - matriz b\n",
    "b_ineq = [-32, -36] #restrições 1, 2 \n",
    "\n",
    "#intervalo (restrições de não negatividade)\n",
    "intervalo = [(0, float(\"inf\")), #intervalo de x (0-inf)\n",
    "            (0, float(\"inf\"))]  #intervalo de y (0-inf)\n",
    "\n",
    "#solver\n",
    "result = opt.linprog(c=f_objetivo, A_ub=A_ineq, b_ub=b_ineq, \n",
    "                    bounds=intervalo, method=\"simplex\")\n",
    "\n",
    "#resultado do método de otimização\n",
    "\n",
    "print('x1= %.2f' % result.x[0])\n",
    "print('x2= %.2f' % result.x[1])\n",
    "print('max= %.2f' % (result.fun*(-1)))"
   ]
  },
  {
   "cell_type": "markdown",
   "metadata": {},
   "source": [
    "#### Lista 2  [A-04]\n",
    "\n",
    "Modelagem:\n",
    "\n",
    "x1 = natação; x2 = ciclismo\n",
    "\n",
    "$$ max~z = x_1 + x_2 $$\n",
    "\n",
    "suj. a\n",
    "$$ 3*x_1 + 2 * x_2 \\le 50 $$\n",
    "$$ 2*x_1 + 2 * x_2 \\le 20 $$\n",
    "\n",
    "\n",
    "Modelagem Adaptada:\n",
    "\n",
    "$$ min~-z = -x_1 - x_2 $$\n",
    "\n",
    "suj. a\n",
    "$$ 3*x_1 + 2 * x_2 \\le 50 $$\n",
    "$$ 2*x_1 + 2 * x_2 \\le 20 $$\n"
   ]
  },
  {
   "cell_type": "code",
   "execution_count": 6,
   "metadata": {},
   "outputs": [
    {
     "name": "stdout",
     "output_type": "stream",
     "text": [
      "x1= 10.00\n",
      "x2= 0.00\n",
      "max= 10.00\n"
     ]
    }
   ],
   "source": [
    "#função objetivo (x, y)\n",
    "f_objetivo = [-1, -1]\n",
    "\n",
    "#inequações do lado esquerdo (left-hand side) - matriz A\n",
    "A_ineq = [[ 3,  2],  #restrição 1\n",
    "          [ 2,  2]]  #restrição 2\n",
    "\n",
    "#inequações do lado direito (right-hand side) - matriz b\n",
    "b_ineq = [50, 20] #restrições 1, 2 \n",
    "\n",
    "#intervalo (restrições de não negatividade)\n",
    "intervalo = [(0, float(\"inf\")), #intervalo de x (0-inf)\n",
    "            (0, float(\"inf\"))]  #intervalo de y (0-inf)\n",
    "\n",
    "#solver\n",
    "result = opt.linprog(c=f_objetivo, A_ub=A_ineq, b_ub=b_ineq, \n",
    "                    bounds=intervalo, method=\"simplex\")\n",
    "\n",
    "#resultado do método de otimização\n",
    "\n",
    "print('x1= %.2f' % result.x[0])\n",
    "print('x2= %.2f' % result.x[1])\n",
    "print('max= %.2f' % (result.fun*(-1)))"
   ]
  },
  {
   "cell_type": "markdown",
   "metadata": {},
   "source": [
    "---\n",
    "### [A-02] \n",
    "Solucionar computacionalmente os exercícios de 1 a 4 da Seção B da Lista de Exercícios\n",
    "02, em Python, usando a biblioteca PulP."
   ]
  },
  {
   "cell_type": "markdown",
   "metadata": {},
   "source": [
    "#### Lista 2  [A-01]\n",
    "\n",
    "Modelagem:\n",
    "\n",
    "$$ max~z = 12 * qtdcarrinho + 60 * qtdTriciclo $$\n",
    "\n",
    "suj. a\n",
    "$$ Processo de usinagem $$\n",
    "$$ 15*qtdCarrinho + 30 * qtdTriciclo \\le 2160 $$\n",
    "\n",
    "$$ Processo de pintura $$\n",
    "$$ 6*qtdCarrinho + 45 * qtdTriciclo \\le 1320 $$\n",
    "\n",
    "$$ Processo de montagem $$\n",
    "$$ 6*qtdCarrinho + 24 * qtdTriciclo \\le 900 $$\n",
    "\n"
   ]
  },
  {
   "cell_type": "code",
   "execution_count": 55,
   "metadata": {},
   "outputs": [],
   "source": [
    "#inicia um problema de programação linear (LP)\n",
    "model = LpProblem(name=\"[A-01]\", sense=LpMaximize)\n",
    "\n",
    "# inicializa as variáveis de decisão\n",
    "x = LpVariable(name=\"x\", lowBound=0)\n",
    "y = LpVariable(name=\"y\", lowBound=0)\n",
    "\n",
    "# adiciona as constraints ao modelo\n",
    "model += (15*x+30*y <= 2160, \"restricao_1\")\n",
    "model += (6*x+45*y <= 1320, \"restricao_2\")\n",
    "model += (6*x+24*y <= 900, \"restricao_3\")\n",
    "\n",
    "# adiciona a função objetivo\n",
    "obj_func = 12*x + 60 * y\n",
    "model += obj_func"
   ]
  },
  {
   "cell_type": "code",
   "execution_count": 56,
   "metadata": {},
   "outputs": [
    {
     "name": "stdout",
     "output_type": "stream",
     "text": [
      "status Optimal \n",
      "\n",
      "max 2040.0\n",
      "x = 70.0\n",
      "y = 20.0\n",
      "\n",
      "restricao_1 = -510.0\n",
      "restricao_2 = 0.0\n",
      "restricao_3 = 0.0\n"
     ]
    }
   ],
   "source": [
    "#resolve o modelo\n",
    "model.solve()\n",
    "\n",
    "#status da execução\n",
    "print(\"status\",LpStatus[model.status], \"\\n\")\n",
    "\n",
    "#função objetivo\n",
    "print(\"max\",model.objective.value())\n",
    "\n",
    "#variáveis\n",
    "for var in model.variables():\n",
    "    print(var.name, \"=\", var.value())\n",
    "\n",
    "#restrições\n",
    "print()\n",
    "for name, constraint in model.constraints.items():\n",
    "    print(name, \"=\", constraint.value())"
   ]
  },
  {
   "cell_type": "markdown",
   "metadata": {},
   "source": [
    "#### Lista 2  [A-02]\n",
    "\n",
    "Modelagem:\n",
    "$$ max~z = 80 * A + 60 * B $$\n",
    "\n",
    "suj. a\n",
    "$$ 4*A + 6*B * B \\le 24 $$\n",
    "$$ 6*A + 2 * B \\le 16 $$\n",
    "$$ B \\le 3 $$"
   ]
  },
  {
   "cell_type": "code",
   "execution_count": 58,
   "metadata": {},
   "outputs": [],
   "source": [
    "#inicia um problema de programação linear (LP)\n",
    "model = LpProblem(name=\"[A-02]\", sense=LpMaximize)\n",
    "\n",
    "# inicializa as variáveis de decisão\n",
    "x = LpVariable(name=\"A\", lowBound=0)\n",
    "y = LpVariable(name=\"B\", lowBound=0)\n",
    "\n",
    "# adiciona as constraints ao modelo\n",
    "model += (4*x+6*y <= 24, \"restricao_1\")\n",
    "model += (4*x+2*y <= 16, \"restricao_2\")\n",
    "model += (y <= 3, \"restricao_3\")\n",
    "\n",
    "# adiciona a função objetivo\n",
    "obj_func = 80*x + 60 * y\n",
    "model += obj_func"
   ]
  },
  {
   "cell_type": "code",
   "execution_count": 59,
   "metadata": {},
   "outputs": [
    {
     "name": "stdout",
     "output_type": "stream",
     "text": [
      "status Optimal \n",
      "\n",
      "max 360.0\n",
      "A = 3.0\n",
      "B = 2.0\n",
      "\n",
      "restricao_1 = 0.0\n",
      "restricao_2 = 0.0\n",
      "restricao_3 = -1.0\n"
     ]
    }
   ],
   "source": [
    "#resolve o modelo\n",
    "model.solve()\n",
    "\n",
    "#status da execução\n",
    "print(\"status\",LpStatus[model.status], \"\\n\")\n",
    "\n",
    "#função objetivo\n",
    "print(\"max\",model.objective.value())\n",
    "\n",
    "#variáveis\n",
    "for var in model.variables():\n",
    "    print(var.name, \"=\", var.value())\n",
    "\n",
    "#restrições\n",
    "print()\n",
    "for name, constraint in model.constraints.items():\n",
    "    print(name, \"=\", constraint.value())"
   ]
  },
  {
   "cell_type": "markdown",
   "metadata": {},
   "source": [
    "#### Lista 2  [A-03]\n",
    "\n",
    "Modelagem:\n",
    "\n",
    "x_1 = Carne  ;  x_2 = Ovo  \n",
    "\n",
    "$$ min~z = 3 * x_1 + 2.5 * x_2 $$\n",
    "\n",
    "suj. a\n",
    "$$ 4*x_1 + 8 * x_2 \\ge 32 $$\n",
    "$$ 6*x_1 + 6 * x_2 \\ge 36 $$\n"
   ]
  },
  {
   "cell_type": "code",
   "execution_count": 65,
   "metadata": {},
   "outputs": [],
   "source": [
    "#inicia um problema de programação linear (LP)\n",
    "model = LpProblem(name=\"[A-03]\", sense=LpMinimize)\n",
    "\n",
    "# inicializa as variáveis de decisão\n",
    "x = LpVariable(name=\"x1\", lowBound=0)\n",
    "y = LpVariable(name=\"x2\", lowBound=0)\n",
    "\n",
    "# adiciona as constraints ao modelo\n",
    "model += (4*x+8*y >= 32, \"restricao_1\")\n",
    "model += (6*x+6*y >= 36, \"restricao_2\")\n",
    "\n",
    "# adiciona a função objetivo\n",
    "obj_func = 3*x + 2.5 * y\n",
    "model += obj_func"
   ]
  },
  {
   "cell_type": "code",
   "execution_count": 66,
   "metadata": {},
   "outputs": [
    {
     "name": "stdout",
     "output_type": "stream",
     "text": [
      "status Optimal \n",
      "\n",
      "max 15.0\n",
      "x1 = 0.0\n",
      "x2 = 6.0\n",
      "\n",
      "restricao_1 = 16.0\n",
      "restricao_2 = 0.0\n"
     ]
    }
   ],
   "source": [
    "#resolve o modelo\n",
    "model.solve()\n",
    "\n",
    "#status da execução\n",
    "print(\"status\",LpStatus[model.status], \"\\n\")\n",
    "\n",
    "#função objetivo\n",
    "print(\"max\",model.objective.value())\n",
    "\n",
    "#variáveis\n",
    "for var in model.variables():\n",
    "    print(var.name, \"=\", var.value())\n",
    "\n",
    "#restrições\n",
    "print()\n",
    "for name, constraint in model.constraints.items():\n",
    "    print(name, \"=\", constraint.value())"
   ]
  },
  {
   "cell_type": "markdown",
   "metadata": {},
   "source": [
    "#### Lista 2  [A-04]\n",
    "\n",
    "Modelagem:\n",
    "\n",
    "x1 = natação; x2 = ciclismo\n",
    "\n",
    "$$ max~z = x_1 + x_2 $$\n",
    "\n",
    "suj. a\n",
    "$$ 3*x_1 + 2 * x_2 \\le 50 $$\n",
    "$$ 2*x_1 + 2 * x_2 \\le 20 $$"
   ]
  },
  {
   "cell_type": "code",
   "execution_count": 68,
   "metadata": {},
   "outputs": [],
   "source": [
    "#inicia um problema de programação linear (LP)\n",
    "model = LpProblem(name=\"[A-04]\", sense=LpMaximize)\n",
    "\n",
    "# inicializa as variáveis de decisão\n",
    "x = LpVariable(name=\"x1\", lowBound=0)\n",
    "y = LpVariable(name=\"x2\", lowBound=0)\n",
    "\n",
    "# adiciona as constraints ao modelo\n",
    "model += (3*x+2*y <= 50, \"restricao_1\")\n",
    "model += (2*x+2*y <= 20, \"restricao_2\")\n",
    "\n",
    "# adiciona a função objetivo\n",
    "obj_func = x + y\n",
    "model += obj_func\n"
   ]
  },
  {
   "cell_type": "code",
   "execution_count": 69,
   "metadata": {},
   "outputs": [
    {
     "name": "stdout",
     "output_type": "stream",
     "text": [
      "status Optimal \n",
      "\n",
      "max 10.0\n",
      "x1 = 0.0\n",
      "x2 = 10.0\n",
      "\n",
      "restricao_1 = -30.0\n",
      "restricao_2 = 0.0\n"
     ]
    }
   ],
   "source": [
    "#resolve o modelo\n",
    "model.solve()\n",
    "\n",
    "#status da execução\n",
    "print(\"status\",LpStatus[model.status], \"\\n\")\n",
    "\n",
    "#função objetivo\n",
    "print(\"max\",model.objective.value())\n",
    "\n",
    "#variáveis\n",
    "for var in model.variables():\n",
    "    print(var.name, \"=\", var.value())\n",
    "\n",
    "#restrições\n",
    "print()\n",
    "for name, constraint in model.constraints.items():\n",
    "    print(name, \"=\", constraint.value())"
   ]
  },
  {
   "cell_type": "code",
   "execution_count": null,
   "metadata": {},
   "outputs": [],
   "source": []
  }
 ],
 "metadata": {
  "kernelspec": {
   "display_name": "Python 3",
   "language": "python",
   "name": "python3"
  },
  "language_info": {
   "codemirror_mode": {
    "name": "ipython",
    "version": 3
   },
   "file_extension": ".py",
   "mimetype": "text/x-python",
   "name": "python",
   "nbconvert_exporter": "python",
   "pygments_lexer": "ipython3",
   "version": "3.8.2"
  }
 },
 "nbformat": 4,
 "nbformat_minor": 4
}
