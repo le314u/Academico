{
 "cells": [
  {
   "cell_type": "code",
   "execution_count": null,
   "metadata": {},
   "outputs": [],
   "source": []
  },
  {
   "cell_type": "markdown",
   "metadata": {},
   "source": [
    "![IFMG](https://storage.googleapis.com/ifmg/IFMG.png)\n",
    "\n",
    "---\n",
    "# Pesquisa Operacional\n",
    "\n",
    "## Lista 3\n",
    "- Aluno: Lucas Mateus Fernandes\n",
    "- RA:0035411\n",
    "\n"
   ]
  },
  {
   "cell_type": "markdown",
   "metadata": {},
   "source": [
    "---\n",
    "### Importação de bibliotecas "
   ]
  },
  {
   "cell_type": "code",
   "execution_count": null,
   "metadata": {},
   "outputs": [],
   "source": [
    "#instalação pulp\n",
    "!pip3 install pulp\n",
    "!pip3 install matplot"
   ]
  },
  {
   "cell_type": "code",
   "execution_count": 25,
   "metadata": {},
   "outputs": [],
   "source": [
    "import scipy.optimize as opt\n",
    "import numpy as np\n",
    "import matplotlib.pyplot as plt\n",
    "from pulp import LpMaximize, LpMinimize, LpProblem, LpStatus, lpSum, LpVariable\n",
    "%matplotlib inline\n",
    "\n",
    "import matplotlib        as mpl\n",
    "cmap = mpl.cm.Blues(np.linspace(0,1,20))\n",
    "cmap = mpl.colors.ListedColormap(cmap[10:,:-1])\n",
    "\n",
    "def plot_raizes(list_obj, list_par = None, xlabel=None, ylabel=None):\n",
    "    if(list_par == None):\n",
    "        aran = np.arange(0,len(list_obj),1)\n",
    "    else:\n",
    "        aran = list_par.copy()\n",
    "\n",
    "    plt.rcParams[\"figure.figsize\"] = (10,8)\n",
    "    plt.scatter(aran, list_obj, c=aran, cmap=cmap)\n",
    "\n",
    "    if(xlabel == None and ylabel == None):\n",
    "        cbar = plt.colorbar()\n",
    "        cbar.set_label('Função Objetivo')\n",
    "\n",
    "    plt.xlabel('Valores parâmetro' if xlabel == None else xlabel)\n",
    "    plt.ylabel('Função Objetivo' if ylabel == None else ylabel)\n",
    "\n",
    "    plt.grid()\n",
    "    plt.show()"
   ]
  },
  {
   "cell_type": "markdown",
   "metadata": {},
   "source": [
    "## Questão A3\n"
   ]
  },
  {
   "cell_type": "code",
   "execution_count": 23,
   "metadata": {},
   "outputs": [
    {
     "name": "stdout",
     "output_type": "stream",
     "text": [
      "status Optimal \n",
      "\n",
      "min 82.0\n",
      "x1 = 7.0\n",
      "x2 = 1.0\n",
      "x3 = 0.0\n",
      "\n",
      "restricao_1 = -7.0\n",
      "restricao_2 = 0.0\n",
      "restricao_3 = 0.0\n"
     ]
    }
   ],
   "source": [
    "import scipy.optimize as opt\n",
    "import numpy as np\n",
    "import matplotlib.pyplot as plt\n",
    "from pulp import LpMaximize, LpMinimize, LpProblem, LpStatus, lpSum, LpVariable\n",
    "#inicia um problema de programação linear (LP)\n",
    "model = LpProblem(name=\"A3\", sense=LpMinimize)\n",
    "# inicializa as variáveis de decisão\n",
    "x1 = LpVariable(name=\"x1\", lowBound=0)\n",
    "x2 = LpVariable(name=\"x2\", lowBound=0)\n",
    "x3 = LpVariable(name=\"x3\", lowBound=0)\n",
    "# adiciona as constraints ao modelo\n",
    "model += (3*x1+2*x2+2*x3 <= 30, \"restricao_1\")\n",
    "model += (2*x1+1*x2+1*x3 >= 15, \"restricao_2\")\n",
    "model += (1*x1+3*x2+1*x3 == 10, \"restricao_3\")\n",
    "# adiciona a função objetivo\n",
    "obj_func = 10*x1 + 12*x2  + 14*x3\n",
    "model += obj_func\n",
    "#resolve o modelo\n",
    "model.solve()\n",
    "#status da execução\n",
    "print(\"status\",LpStatus[model.status], \"\\n\")\n",
    "#função objetivo\n",
    "print(\"min\",model.objective.value())\n",
    "#variáveis\n",
    "for var in model.variables():\n",
    "    print(var.name, \"=\", var.value())\n",
    "#restrições\n",
    "print()\n",
    "for name, constraint in model.constraints.items():\n",
    "    print(name, \"=\", constraint.value())"
   ]
  },
  {
   "cell_type": "code",
   "execution_count": 12,
   "metadata": {},
   "outputs": [
    {
     "name": "stdout",
     "output_type": "stream",
     "text": [
      "R1 False\n",
      "R2 True\n",
      "R3 True\n"
     ]
    }
   ],
   "source": [
    "x1 = 7.0\n",
    "x2 = 1.0\n",
    "x3 = 0.0\n",
    "print(\"R1\",3*x1+2*x2+2*x3==30)\n",
    "print(\"R2\",2*x1+1*x2+1*x3==15)\n",
    "print(\"R3\",1*x1+3*x2+1*x3==10)"
   ]
  },
  {
   "cell_type": "code",
   "execution_count": 17,
   "metadata": {},
   "outputs": [
    {
     "name": "stdout",
     "output_type": "stream",
     "text": [
      "min 82.0\n",
      "min 85.6\n",
      "min 84.8\n"
     ]
    }
   ],
   "source": [
    "#Preço Sombra\n",
    "\n",
    "#inicia um problema de programação linear (LP)\n",
    "model = LpProblem(name=\"A3\", sense=LpMinimize)\n",
    "# inicializa as variáveis de decisão\n",
    "x1 = LpVariable(name=\"x1\", lowBound=0)\n",
    "x2 = LpVariable(name=\"x2\", lowBound=0)\n",
    "x3 = LpVariable(name=\"x3\", lowBound=0)\n",
    "# adiciona as constraints ao modelo\n",
    "model += (3*x1+2*x2+2*x3 <= 30, \"restricao_1\")\n",
    "model += (2*x1+1*x2+1*x3 >= 15, \"restricao_2\")\n",
    "model += (1*x1+3*x2+1*x3 == 10, \"restricao_3\")\n",
    "# adiciona a função objetivo\n",
    "obj_func = 10*x1 + 12*x2  + 14*x3\n",
    "model += obj_func\n",
    "#resolve o modelo\n",
    "model.solve()\n",
    "#função objetivo\n",
    "print(\"min\",model.objective.value())\n",
    "\n",
    "\n",
    "#inicia um problema de programação linear (LP)\n",
    "model = LpProblem(name=\"A3\", sense=LpMinimize)\n",
    "# inicializa as variáveis de decisão\n",
    "x1 = LpVariable(name=\"x1\", lowBound=0)\n",
    "x2 = LpVariable(name=\"x2\", lowBound=0)\n",
    "x3 = LpVariable(name=\"x3\", lowBound=0)\n",
    "# adiciona as constraints ao modelo\n",
    "model += (3*x1+2*x2+2*x3 <= 30, \"restricao_1\")\n",
    "model += (2*x1+1*x2+1*x3 >= 16, \"restricao_2\")\n",
    "model += (1*x1+3*x2+1*x3 == 10, \"restricao_3\")\n",
    "# adiciona a função objetivo\n",
    "obj_func = 10*x1 + 12*x2  + 14*x3\n",
    "model += obj_func\n",
    "#resolve o modelo\n",
    "model.solve()\n",
    "#função objetivo\n",
    "print(\"min\",model.objective.value())\n",
    "\n",
    "\n",
    "#inicia um problema de programação linear (LP)\n",
    "model = LpProblem(name=\"A3\", sense=LpMinimize)\n",
    "# inicializa as variáveis de decisão\n",
    "x1 = LpVariable(name=\"x1\", lowBound=0)\n",
    "x2 = LpVariable(name=\"x2\", lowBound=0)\n",
    "x3 = LpVariable(name=\"x3\", lowBound=0)\n",
    "# adiciona as constraints ao modelo\n",
    "model += (3*x1+2*x2+2*x3 <= 30, \"restricao_1\")\n",
    "model += (2*x1+1*x2+1*x3 >= 15, \"restricao_2\")\n",
    "model += (1*x1+3*x2+1*x3 == 11, \"restricao_3\")\n",
    "# adiciona a função objetivo\n",
    "obj_func = 10*x1 + 12*x2  + 14*x3\n",
    "model += obj_func\n",
    "#resolve o modelo\n",
    "model.solve()\n",
    "#função objetivo\n",
    "print(\"min\",model.objective.value())\n"
   ]
  },
  {
   "cell_type": "code",
   "execution_count": 19,
   "metadata": {},
   "outputs": [
    {
     "name": "stdout",
     "output_type": "stream",
     "text": [
      "3.5999999999999943\n",
      "2.799999999999997\n"
     ]
    }
   ],
   "source": [
    "Original = 82\n",
    "AdaptadaR1 =85.6\n",
    "AdaptadaR2 =84.8\n",
    "\n",
    "SombraR1 = (AdaptadaR1-Original)/1\n",
    "SombraR2 = (AdaptadaR2-Original)/1\n",
    "        \n",
    "print(SombraR1)\n",
    "print(SombraR2)"
   ]
  },
  {
   "cell_type": "code",
   "execution_count": 37,
   "metadata": {},
   "outputs": [
    {
     "data": {
      "image/png": "[encoded data removed]",
      "text/plain": [
       "<Figure size 720x576 with 2 Axes>"
      ]
     },
     "metadata": {
      "needs_background": "light"
     },
     "output_type": "display_data"
    }
   ],
   "source": [
    "listaObj = []\n",
    "listaRange = []\n",
    "for i in range(5,150,1):\n",
    "    novoLimite=int(i);\n",
    "    #inicia um problema de programação linear (LP)\n",
    "    model = LpProblem(name=\"A3)\", sense=LpMinimize)\n",
    "    # inicializa as variáveis de decisão\n",
    "    x1 = LpVariable(name=\"x1\", lowBound=0)\n",
    "    x2 = LpVariable(name=\"x2\", lowBound=0)\n",
    "    x3 = LpVariable(name=\"x3\", lowBound=0)\n",
    "    # adiciona as restrições ao modelo\n",
    "    model += (3*x1+2*x2+2*x3 <= 30, \"restricao_1\")\n",
    "    model += (2*x1+1*x2+1*x3 >= novoLimite, \"restricao_2\")\n",
    "    model += (1*x1+3*x2+1*x3 == 10, \"restricao_3\")\n",
    "    # adiciona a função objetivo\n",
    "    obj_func = 10*x1 + 12*x2  + 14*x3\n",
    "    model += obj_func\n",
    "    #resolve o modelo\n",
    "    model.solve()\n",
    "    #função objetivo\n",
    "    valor = model.objective.value()\n",
    "    listaObj.append(valor)\n",
    "    listaRange.append(novoLimite)\n",
    "\n",
    "plot_raizes(listaObj, list_par = listaRange, xlabel=None, ylabel=None)"
   ]
  },
  {
   "cell_type": "code",
   "execution_count": 42,
   "metadata": {},
   "outputs": [
    {
     "data": {
      "image/png": "[encoded data removed]",
      "text/plain": [
       "<Figure size 720x576 with 2 Axes>"
      ]
     },
     "metadata": {
      "needs_background": "light"
     },
     "output_type": "display_data"
    }
   ],
   "source": [
    "listaObj = []\n",
    "lsitaRange = []\n",
    "for i in range(5,150,1):\n",
    "    novoLimite=int(i);\n",
    "    #inicia um problema de programação linear (LP)\n",
    "    model = LpProblem(name=\"A3)\", sense=LpMinimize)\n",
    "    # inicializa as variáveis de decisão\n",
    "    x1 = LpVariable(name=\"x1\", lowBound=0)\n",
    "    x2 = LpVariable(name=\"x2\", lowBound=0)\n",
    "    x3 = LpVariable(name=\"x3\", lowBound=0)\n",
    "    # adiciona as restrições ao modelo\n",
    "    model += (3*x1+2*x2+2*x3 <= 30, \"restricao_1\")\n",
    "    model += (2*x1+1*x2+1*x3 >= 15, \"restricao_2\")\n",
    "    model += (1*x1+3*x2+1*x3 == novoLimite, \"restricao_3\")\n",
    "    # adiciona a função objetivo\n",
    "    obj_func = 10*x1 + 12*x2  + 14*x3\n",
    "    model += obj_func\n",
    "    #resolve o modelo\n",
    "    model.solve()\n",
    "    #função objetivo\n",
    "    valor = model.objective.value()\n",
    "    listaObj.append(valor)\n",
    "    lsitaRange.append(novoLimite)\n",
    "\n",
    "plot_raizes(listaObj, list_par = lsitaRange, xlabel=None, ylabel=None)"
   ]
  },
  {
   "cell_type": "code",
   "execution_count": null,
   "metadata": {},
   "outputs": [],
   "source": []
  }
 ],
 "metadata": {
  "kernelspec": {
   "display_name": "Python 3",
   "language": "python",
   "name": "python3"
  },
  "language_info": {
   "codemirror_mode": {
    "name": "ipython",
    "version": 3
   },
   "file_extension": ".py",
   "mimetype": "text/x-python",
   "name": "python",
   "nbconvert_exporter": "python",
   "pygments_lexer": "ipython3",
   "version": "3.8.2"
  }
 },
 "nbformat": 4,
 "nbformat_minor": 4
}
